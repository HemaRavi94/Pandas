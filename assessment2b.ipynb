{
  "cells": [
    {
      "cell_type": "markdown",
      "metadata": {
        "id": "view-in-github",
        "colab_type": "text"
      },
      "source": [
        "<a href=\"https://colab.research.google.com/github/HemaRavi94/Pandas/blob/main/assessment2b.ipynb\" target=\"_parent\"><img src=\"https://colab.research.google.com/assets/colab-badge.svg\" alt=\"Open In Colab\"/></a>"
      ]
    },
    {
      "cell_type": "markdown",
      "metadata": {
        "id": "qpJHLvJX37i1"
      },
      "source": [
        "###### Assessment"
      ]
    },
    {
      "cell_type": "markdown",
      "metadata": {
        "id": "z7gdIO8F37i6"
      },
      "source": [
        "###### I am going to provide two .csv files , you are supposed to work on them and have to provide solutions to the following problems"
      ]
    },
    {
      "cell_type": "markdown",
      "metadata": {
        "id": "WxWd7a0K37i7"
      },
      "source": [
        "###### import necessary libraries"
      ]
    },
    {
      "cell_type": "code",
      "execution_count": null,
      "metadata": {
        "id": "OsVt0oJ-37i7"
      },
      "outputs": [],
      "source": [
        "import pandas as pd"
      ]
    },
    {
      "cell_type": "markdown",
      "metadata": {
        "id": "MSbsPT6p37i9"
      },
      "source": [
        "###### merge those two csv files (after getting as dataframes, get them as a single dataframe)"
      ]
    },
    {
      "cell_type": "code",
      "execution_count": null,
      "metadata": {
        "colab": {
          "base_uri": "https://localhost:8080/"
        },
        "id": "CI-n2u5F37i-",
        "outputId": "20aa74a7-e2f3-41a2-d951-6e96ac6c89dd"
      },
      "outputs": [
        {
          "output_type": "stream",
          "name": "stdout",
          "text": [
            "              Name  python  mysql  Previous Geekions  CodeKata Score  \\\n",
            "0        A.Dharani    82.0   20.0              24500           24500   \n",
            "1      V.JEEVITHA     82.0   20.0              21740           21740   \n",
            "2      HEMAVATHI.R   100.0  100.0              19680           19680   \n",
            "3      Mugunthan S   100.0   47.0              10610           10610   \n",
            "4      Sathammai.S   100.0    8.0               8980            8980   \n",
            "..             ...     ...    ...                ...             ...   \n",
            "114  praveen raj j    24.0    0.0               2380            2380   \n",
            "115     AMARNATH D    -1.0   12.0               1890            1890   \n",
            "116           bala    32.0    0.0               1720            1720   \n",
            "117           XY Z    -1.0   -1.0                  0               0   \n",
            "118      Hariharan    -1.0   -1.0                  0               0   \n",
            "\n",
            "                                    Department  Rising  python_en  \\\n",
            "0             Computer Science and Engineering       0        NaN   \n",
            "1             Computer Science and Engineering       0        NaN   \n",
            "2             Computer Science and Engineering       0        NaN   \n",
            "3             Computer Science and Engineering       0        NaN   \n",
            "4             Computer Science and Engineering       0        NaN   \n",
            "..                                         ...     ...        ...   \n",
            "114           Computer Science and Engineering       0       -1.0   \n",
            "115  Electronics and Communication Engineering       0       52.0   \n",
            "116  Electronics and Communication Engineering       0       49.0   \n",
            "117           Computer Science and Engineering       0       20.0   \n",
            "118           Computer Science and Engineering       0       -1.0   \n",
            "\n",
            "     computational_thinking  \n",
            "0                       NaN  \n",
            "1                       NaN  \n",
            "2                       NaN  \n",
            "3                       NaN  \n",
            "4                       NaN  \n",
            "..                      ...  \n",
            "114                     0.0  \n",
            "115                    -1.0  \n",
            "116                    -1.0  \n",
            "117                    -1.0  \n",
            "118                     0.0  \n",
            "\n",
            "[119 rows x 9 columns]\n"
          ]
        }
      ],
      "source": [
        "df = pd.concat(\n",
        "    map(pd.read_csv, ['college_1.csv','college_2.csv']), ignore_index=True)\n",
        "print(df)"
      ]
    },
    {
      "cell_type": "markdown",
      "metadata": {
        "id": "Y-9Ommn637i-"
      },
      "source": [
        "###### Take each csv file , split that csv file into multiple categories (example csv files are added in the repo) \n"
      ]
    },
    {
      "cell_type": "markdown",
      "metadata": {
        "id": "iPtEsJQv37i_"
      },
      "source": [
        "###### consider if the codekata score exceeds 15000 points(present week) then make a csv on those observations as Exceeded expectations.csv\n"
      ]
    },
    {
      "cell_type": "markdown",
      "metadata": {
        "id": "KRMNR3eR37i_"
      },
      "source": [
        "###### if  10000<codekata score<15000   (Reached_expectations.csv)\n",
        "\n"
      ]
    },
    {
      "cell_type": "markdown",
      "metadata": {
        "id": "kLerjAgA37jA"
      },
      "source": [
        "###### if  7000<codekata score<10000   (Needs_Improvement.csv)\n"
      ]
    },
    {
      "cell_type": "markdown",
      "metadata": {
        "id": "VqLcWwTe37jB"
      },
      "source": [
        "###### if  codekate score < 7000        (Unsatisfactory.csv)"
      ]
    },
    {
      "cell_type": "code",
      "source": [
        "for (Exceeded_expectations), group in df.groupby([df['CodeKata Score'] >= 15000]):\n",
        "   group.to_csv(f'{Exceeded_expectations}.csv', index=False)\n",
        "\n",
        "for (Reached_expectations), group in df.groupby([(df['CodeKata Score'] < 15000) & (df['CodeKata Score'] > 10000)]):\n",
        "   group.to_csv(f'{Reached_expectations}.csv', index=False)\n",
        "\n",
        "for ( Needs_Improvement), group in df.groupby([(df['CodeKata Score'] < 10000) & (df['CodeKata Score'] > 7000)]):\n",
        "   group.to_csv(f'{ Needs_Improvement}.csv', index=False)\n",
        "\n",
        "for (Unsatisfactory), group in df.groupby([df['CodeKata Score'] < 7000]):\n",
        "   group.to_csv(f'{Unsatisfactory}.csv', index=False)\n"
      ],
      "metadata": {
        "id": "4zalZZr3mrE4"
      },
      "execution_count": null,
      "outputs": []
    },
    {
      "cell_type": "markdown",
      "metadata": {
        "id": "GfBgGaul37jC"
      },
      "source": [
        "###### Average of previous week geekions vs this week geekions (i.e Previous Geekions vs CodeKata Score)"
      ]
    },
    {
      "cell_type": "code",
      "execution_count": null,
      "metadata": {
        "id": "8aRCwLgz37jD",
        "colab": {
          "base_uri": "https://localhost:8080/"
        },
        "outputId": "efd09ced-1c41-4635-caff-780f92a3544a"
      },
      "outputs": [
        {
          "output_type": "execute_result",
          "data": {
            "text/plain": [
              "Previous Geekions    3842.352941\n",
              "CodeKata Score       4051.764706\n",
              "dtype: float64"
            ]
          },
          "metadata": {},
          "execution_count": 11
        }
      ],
      "source": [
        "df[['Previous Geekions','CodeKata Score']].mean()"
      ]
    },
    {
      "cell_type": "markdown",
      "metadata": {
        "id": "dntQN1CG37jD"
      },
      "source": [
        "###### No of students participated "
      ]
    },
    {
      "cell_type": "code",
      "execution_count": null,
      "metadata": {
        "id": "yXaC3Z4G37jD",
        "colab": {
          "base_uri": "https://localhost:8080/"
        },
        "outputId": "9e6ff05d-cb7b-426c-ca3e-573d530cd03d"
      },
      "outputs": [
        {
          "output_type": "stream",
          "name": "stdout",
          "text": [
            "119\n"
          ]
        }
      ],
      "source": [
        "print(len(df))"
      ]
    },
    {
      "cell_type": "markdown",
      "metadata": {
        "id": "oUc__vA937jD"
      },
      "source": [
        "###### #Average completion of python course or my_sql or python english or computational thinking"
      ]
    },
    {
      "cell_type": "code",
      "execution_count": null,
      "metadata": {
        "id": "lr2ou-ZA37jE",
        "colab": {
          "base_uri": "https://localhost:8080/"
        },
        "outputId": "09bff108-5a1a-4e61-f925-06fd917fd6cb"
      },
      "outputs": [
        {
          "output_type": "execute_result",
          "data": {
            "text/plain": [
              "23.5"
            ]
          },
          "metadata": {},
          "execution_count": 13
        }
      ],
      "source": [
        "Avg_mySQL=df['mysql'].mean()\n",
        "Avg_mySQL"
      ]
    },
    {
      "cell_type": "markdown",
      "metadata": {
        "id": "JwQNEHYs37jE"
      },
      "source": [
        "###### rising star of the week (top 3 candidate who performed well in that particular week)"
      ]
    },
    {
      "cell_type": "code",
      "execution_count": null,
      "metadata": {
        "id": "j4tX0GIl37jE",
        "colab": {
          "base_uri": "https://localhost:8080/"
        },
        "outputId": "f2b103e7-4342-4a1f-b4b0-00e44bf7d1c1"
      },
      "outputs": [
        {
          "output_type": "stream",
          "name": "stdout",
          "text": [
            "                    Name  CodeKata Score\n",
            "Rising_star                             \n",
            "1.0            A.Dharani           24500\n",
            "2.0          V.JEEVITHA            21740\n",
            "3.0          HEMAVATHI.R           19680\n"
          ]
        }
      ],
      "source": [
        "df['Rising_star'] = df[ 'CodeKata Score'].rank(ascending = False)\n",
        "  \n",
        "df = df.set_index('Rising_star')\n",
        "print(df.head(3).drop(columns=['python','mysql','Previous Geekions','Department','Rising', 'python_en','computational_thinking']))"
      ]
    },
    {
      "cell_type": "markdown",
      "metadata": {
        "id": "1V4lLS8A37jE"
      },
      "source": [
        "###### Shining stars of the week (top 3 candidates who has highest geekions)"
      ]
    },
    {
      "cell_type": "code",
      "execution_count": null,
      "metadata": {
        "id": "1JTENIyC37jF",
        "colab": {
          "base_uri": "https://localhost:8080/"
        },
        "outputId": "4c9bed2f-d928-4790-be24-6985e55a5c80"
      },
      "outputs": [
        {
          "output_type": "stream",
          "name": "stdout",
          "text": [
            "                     Name  CodeKata Score\n",
            "Shining_star                             \n",
            "1.0             A.Dharani           24500\n",
            "2.0           V.JEEVITHA            21740\n",
            "3.0           HEMAVATHI.R           19680\n"
          ]
        }
      ],
      "source": [
        "df['Shining_star'] = df['Previous Geekions'].rank(ascending = False)\n",
        "  \n",
        "df = df.set_index('Shining_star')\n",
        "print(df.head(3).drop(columns=['python','mysql','Previous Geekions','Department','Rising', 'python_en','computational_thinking']))"
      ]
    },
    {
      "cell_type": "markdown",
      "metadata": {
        "id": "FWFA_VLx37jF"
      },
      "source": [
        "###### Department wise codekata performence (pie chart)"
      ]
    },
    {
      "cell_type": "code",
      "execution_count": null,
      "metadata": {
        "id": "GJeQt8-b37jF",
        "colab": {
          "base_uri": "https://localhost:8080/",
          "height": 321
        },
        "outputId": "84819ac8-de7c-4a75-f335-740d81642ad6"
      },
      "outputs": [
        {
          "output_type": "execute_result",
          "data": {
            "text/plain": [
              "<matplotlib.axes._subplots.AxesSubplot at 0x7fa997e0e850>"
            ]
          },
          "metadata": {},
          "execution_count": 73
        },
        {
          "output_type": "display_data",
          "data": {
            "text/plain": [
              "<Figure size 360x360 with 1 Axes>"
            ],
            "image/png": "[encoded data removed]"
          },
          "metadata": {}
        }
      ],
      "source": [
        "df.groupby(['Department']).head(5).plot(kind='pie', y='CodeKata Score',figsize=(5, 5),startangle = 90,legend=False)        \n",
        "\n",
        "                                  "
      ]
    },
    {
      "cell_type": "markdown",
      "metadata": {
        "id": "3hA2pXke37jF"
      },
      "source": [
        "###### Department wise toppers (horizantal bar graph or any visual representations of your choice)"
      ]
    },
    {
      "cell_type": "code",
      "source": [
        "import seaborn as sns\n",
        "sns.barplot(y=df['CodeKata Score'].rank(ascending = False),x=df['Name'].head(5),data=df)"
      ],
      "metadata": {
        "colab": {
          "base_uri": "https://localhost:8080/",
          "height": 297
        },
        "id": "Si_5BmIcGX22",
        "outputId": "4eaf941e-de6a-4e37-a3e0-4ec55756571d"
      },
      "execution_count": null,
      "outputs": [
        {
          "output_type": "execute_result",
          "data": {
            "text/plain": [
              "<matplotlib.axes._subplots.AxesSubplot at 0x7fa997f3c810>"
            ]
          },
          "metadata": {},
          "execution_count": 86
        },
        {
          "output_type": "display_data",
          "data": {
            "text/plain": [
              "<Figure size 432x288 with 1 Axes>"
            ],
            "image/png": "[encoded data removed]"
          },
          "metadata": {
            "needs_background": "light"
          }
        }
      ]
    }
  ],
  "metadata": {
    "kernelspec": {
      "display_name": "Python 3",
      "language": "python",
      "name": "python3"
    },
    "language_info": {
      "codemirror_mode": {
        "name": "ipython",
        "version": 3
      },
      "file_extension": ".py",
      "mimetype": "text/x-python",
      "name": "python",
      "nbconvert_exporter": "python",
      "pygments_lexer": "ipython3",
      "version": "3.8.3"
    },
    "colab": {
      "provenance": [],
      "include_colab_link": true
    }
  },
  "nbformat": 4,
  "nbformat_minor": 0
}